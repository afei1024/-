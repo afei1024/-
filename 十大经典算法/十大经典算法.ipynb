{
 "cells": [
  {
   "cell_type": "markdown",
   "metadata": {},
   "source": [
    "#  冒泡排序\n",
    "冒泡排序（Bubble Sort）也是一种简单直观的排序算法。它重复地走访过要排序的数列，一次比较两个元素，如果他们的顺序错误就把他们交换过来。走访数列的工作是重复地进行直到没有再需要交换，也就是说该数列已经排序完成。这个算法的名字由来是因为越小的元素会经由交换慢慢“浮”到数列的顶端。\n",
    "\n",
    "作为最简单的排序算法之一，冒泡排序给我的感觉就像 Abandon 在单词书里出现的感觉一样，每次都在第一页第一位，所以最熟悉。冒泡排序还有一种优化算法，就是立一个 flag，当在一趟序列遍历中元素没有发生交换，则证明该序列已经有序。但这种改进对于提升性能来说并没有什么太大作用。\n",
    "\n",
    "## 1. 算法步骤\n",
    "\n",
    "1. 比较相邻的元素。如果第一个比第二个大，就交换他们两个。\n",
    "2. 对每一对相邻元素作同样的工作，从开始第一对到结尾的最后一对。这步做完后，最后的元素会是最大的数。\n",
    "3. 针对所有的元素重复以上的步骤，除了最后一个。\n",
    "4. 持续每次对越来越少的元素重复上面的步骤，直到没有任何一对数字需要比较。"
   ]
  },
  {
   "cell_type": "code",
   "execution_count": 1,
   "metadata": {},
   "outputs": [],
   "source": [
    "# 代码\n",
    "import typing\n",
    "def bubble_sort(arr:typing.List[int]) -> typing.List:\n",
    "    \"\"\"\n",
    "    冒泡排序法， 对传入的列表做了数据类型的限定， 不满足会触发TypeError异常\n",
    "    \"\"\"\n",
    "    for i in range(1, len(arr)):\n",
    "        for j in range(0, len(arr) - i):\n",
    "            if arr[j]>arr[j + 1]:\n",
    "                arr[j], arr[j + 1] = arr[j + 1],arr[j]\n",
    "    return arr"
   ]
  },
  {
   "cell_type": "code",
   "execution_count": 3,
   "metadata": {},
   "outputs": [
    {
     "ename": "TypeError",
     "evalue": "'>' not supported between instances of 'int' and 'str'",
     "output_type": "error",
     "traceback": [
      "\u001b[1;31m---------------------------------------------------------------------------\u001b[0m",
      "\u001b[1;31mTypeError\u001b[0m                                 Traceback (most recent call last)",
      "\u001b[1;32m<ipython-input-3-63551eb8fe6e>\u001b[0m in \u001b[0;36m<module>\u001b[1;34m\u001b[0m\n\u001b[1;32m----> 1\u001b[1;33m \u001b[0mbubble_sort\u001b[0m\u001b[1;33m(\u001b[0m\u001b[1;33m[\u001b[0m\u001b[1;36m3\u001b[0m\u001b[1;33m,\u001b[0m\u001b[1;36m51\u001b[0m\u001b[1;33m,\u001b[0m\u001b[1;36m2\u001b[0m\u001b[1;33m,\u001b[0m\u001b[1;36m56164\u001b[0m\u001b[1;33m,\u001b[0m\u001b[1;36m314167\u001b[0m\u001b[1;33m,\u001b[0m\u001b[1;34m'1'\u001b[0m\u001b[1;33m]\u001b[0m\u001b[1;33m)\u001b[0m\u001b[1;33m\u001b[0m\u001b[1;33m\u001b[0m\u001b[0m\n\u001b[0m",
      "\u001b[1;32m<ipython-input-1-cd527bd2d2b3>\u001b[0m in \u001b[0;36mbubble_sort\u001b[1;34m(arr)\u001b[0m\n\u001b[0;32m      3\u001b[0m     \u001b[1;32mfor\u001b[0m \u001b[0mi\u001b[0m \u001b[1;32min\u001b[0m \u001b[0mrange\u001b[0m\u001b[1;33m(\u001b[0m\u001b[1;36m1\u001b[0m\u001b[1;33m,\u001b[0m \u001b[0mlen\u001b[0m\u001b[1;33m(\u001b[0m\u001b[0marr\u001b[0m\u001b[1;33m)\u001b[0m\u001b[1;33m)\u001b[0m\u001b[1;33m:\u001b[0m\u001b[1;33m\u001b[0m\u001b[1;33m\u001b[0m\u001b[0m\n\u001b[0;32m      4\u001b[0m         \u001b[1;32mfor\u001b[0m \u001b[0mj\u001b[0m \u001b[1;32min\u001b[0m \u001b[0mrange\u001b[0m\u001b[1;33m(\u001b[0m\u001b[1;36m0\u001b[0m\u001b[1;33m,\u001b[0m \u001b[0mlen\u001b[0m\u001b[1;33m(\u001b[0m\u001b[0marr\u001b[0m\u001b[1;33m)\u001b[0m \u001b[1;33m-\u001b[0m \u001b[0mi\u001b[0m\u001b[1;33m)\u001b[0m\u001b[1;33m:\u001b[0m\u001b[1;33m\u001b[0m\u001b[1;33m\u001b[0m\u001b[0m\n\u001b[1;32m----> 5\u001b[1;33m             \u001b[1;32mif\u001b[0m \u001b[0marr\u001b[0m\u001b[1;33m[\u001b[0m\u001b[0mj\u001b[0m\u001b[1;33m]\u001b[0m\u001b[1;33m>\u001b[0m\u001b[0marr\u001b[0m\u001b[1;33m[\u001b[0m\u001b[0mj\u001b[0m \u001b[1;33m+\u001b[0m \u001b[1;36m1\u001b[0m\u001b[1;33m]\u001b[0m\u001b[1;33m:\u001b[0m\u001b[1;33m\u001b[0m\u001b[1;33m\u001b[0m\u001b[0m\n\u001b[0m\u001b[0;32m      6\u001b[0m                 \u001b[0marr\u001b[0m\u001b[1;33m[\u001b[0m\u001b[0mj\u001b[0m\u001b[1;33m]\u001b[0m\u001b[1;33m,\u001b[0m \u001b[0marr\u001b[0m\u001b[1;33m[\u001b[0m\u001b[0mj\u001b[0m \u001b[1;33m+\u001b[0m \u001b[1;36m1\u001b[0m\u001b[1;33m]\u001b[0m \u001b[1;33m=\u001b[0m \u001b[0marr\u001b[0m\u001b[1;33m[\u001b[0m\u001b[0mj\u001b[0m \u001b[1;33m+\u001b[0m \u001b[1;36m1\u001b[0m\u001b[1;33m]\u001b[0m\u001b[1;33m,\u001b[0m\u001b[0marr\u001b[0m\u001b[1;33m[\u001b[0m\u001b[0mj\u001b[0m\u001b[1;33m]\u001b[0m\u001b[1;33m\u001b[0m\u001b[1;33m\u001b[0m\u001b[0m\n\u001b[0;32m      7\u001b[0m     \u001b[1;32mreturn\u001b[0m \u001b[0marr\u001b[0m\u001b[1;33m\u001b[0m\u001b[1;33m\u001b[0m\u001b[0m\n",
      "\u001b[1;31mTypeError\u001b[0m: '>' not supported between instances of 'int' and 'str'"
     ]
    }
   ],
   "source": [
    "# 测试\n",
    "try:\n",
    "    bubble_sort([3,51,2,56164,314167])\n",
    "except TypeError:\n",
    "    print(TabError)"
   ]
  },
  {
   "cell_type": "markdown",
   "metadata": {},
   "source": [
    "## 最好与最坏时间复杂度\n",
    "- 最好：当传入的数据是正序的 时候 冒泡排序是最快的， 时间复杂度是O（N）\n",
    "- 最坏：当传入的数据是倒叙的时候， 冒泡排序是最差的， 世间复杂度是O(N^2)\n",
    "\n",
    "正常情况下， 因为冒泡排序使用了两个for 循环， 在传入数据大小为N的情况下， 平均时间复杂度为O(N^2)"
   ]
  },
  {
   "cell_type": "code",
   "execution_count": 4,
   "metadata": {},
   "outputs": [
    {
     "name": "stdout",
     "output_type": "stream",
     "text": [
      "  3           0 LOAD_GLOBAL              0 (range)\n",
      "              2 LOAD_CONST               1 (1)\n",
      "              4 LOAD_GLOBAL              1 (len)\n",
      "              6 LOAD_FAST                0 (arr)\n",
      "              8 CALL_FUNCTION            1\n",
      "             10 CALL_FUNCTION            2\n",
      "             12 GET_ITER\n",
      "        >>   14 FOR_ITER                82 (to 98)\n",
      "             16 STORE_FAST               1 (i)\n",
      "\n",
      "  4          18 LOAD_GLOBAL              0 (range)\n",
      "             20 LOAD_CONST               2 (0)\n",
      "             22 LOAD_GLOBAL              1 (len)\n",
      "             24 LOAD_FAST                0 (arr)\n",
      "             26 CALL_FUNCTION            1\n",
      "             28 LOAD_FAST                1 (i)\n",
      "             30 BINARY_SUBTRACT\n",
      "             32 CALL_FUNCTION            2\n",
      "             34 GET_ITER\n",
      "        >>   36 FOR_ITER                58 (to 96)\n",
      "             38 STORE_FAST               2 (j)\n",
      "\n",
      "  5          40 LOAD_FAST                0 (arr)\n",
      "             42 LOAD_FAST                2 (j)\n",
      "             44 BINARY_SUBSCR\n",
      "             46 LOAD_FAST                0 (arr)\n",
      "             48 LOAD_FAST                2 (j)\n",
      "             50 LOAD_CONST               1 (1)\n",
      "             52 BINARY_ADD\n",
      "             54 BINARY_SUBSCR\n",
      "             56 COMPARE_OP               4 (>)\n",
      "             58 POP_JUMP_IF_FALSE       36\n",
      "\n",
      "  6          60 LOAD_FAST                0 (arr)\n",
      "             62 LOAD_FAST                2 (j)\n",
      "             64 LOAD_CONST               1 (1)\n",
      "             66 BINARY_ADD\n",
      "             68 BINARY_SUBSCR\n",
      "             70 LOAD_FAST                0 (arr)\n",
      "             72 LOAD_FAST                2 (j)\n",
      "             74 BINARY_SUBSCR\n",
      "             76 ROT_TWO\n",
      "             78 LOAD_FAST                0 (arr)\n",
      "             80 LOAD_FAST                2 (j)\n",
      "             82 STORE_SUBSCR\n",
      "             84 LOAD_FAST                0 (arr)\n",
      "             86 LOAD_FAST                2 (j)\n",
      "             88 LOAD_CONST               1 (1)\n",
      "             90 BINARY_ADD\n",
      "             92 STORE_SUBSCR\n",
      "             94 JUMP_ABSOLUTE           36\n",
      "        >>   96 JUMP_ABSOLUTE           14\n",
      "\n",
      "  7     >>   98 LOAD_FAST                0 (arr)\n",
      "            100 RETURN_VALUE\n"
     ]
    }
   ],
   "source": [
    "# 在python 执行后加载成的zi'jie\n",
    "import dis\n",
    "\n",
    "dis.dis(bubble_sort)"
   ]
  },
  {
   "cell_type": "code",
   "execution_count": null,
   "metadata": {},
   "outputs": [],
   "source": []
  }
 ],
 "metadata": {
  "kernelspec": {
   "display_name": "Python 3",
   "language": "python",
   "name": "python3"
  },
  "language_info": {
   "codemirror_mode": {
    "name": "ipython",
    "version": 3
   },
   "file_extension": ".py",
   "mimetype": "text/x-python",
   "name": "python",
   "nbconvert_exporter": "python",
   "pygments_lexer": "ipython3",
   "version": "3.8.3"
  }
 },
 "nbformat": 4,
 "nbformat_minor": 4
}
