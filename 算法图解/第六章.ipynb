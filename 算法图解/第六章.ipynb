{
 "cells": [
  {
   "cell_type": "markdown",
   "metadata": {},
   "source": [
    "# 第六章"
   ]
  },
  {
   "cell_type": "markdown",
   "metadata": {},
   "source": [
    "### 目标\n",
    "1. 学习使用新的数据结构图来建立网络模型\n",
    "2. 学习广度优先搜索， 你可对图使用这种算法回答诸如 到X的最短路径是什么 等问题\n",
    "3. 学习又向图与无向图\n",
    "4. 学习拓扑排序， 这种排序算法指出了节点之间的依赖关系"
   ]
  },
  {
   "cell_type": "markdown",
   "metadata": {},
   "source": [
    "\n",
    "## 广度优选搜索\n",
    "解决最短路径问题的算法被称为广度优先搜索\n",
    "\n",
    "广度优先搜索是一种用于图的查找算法， 可以帮助解决两类问题：\n",
    "1. 从节点A出发， 有前往节点B的路径吗？\n",
    "2. 从节点A出发，前往节点B的哪条路径最短？"
   ]
  },
  {
   "cell_type": "markdown",
   "metadata": {},
   "source": [
    "## 队列\n",
    "队列，又称为伫列（queue），是先进先出（FIFO, First-In-First-Out）的线性表。在具体应用中通常用链表或者数组来实现。队列只允许在后端（称为rear）进行插入操作，在前端（称为front）进行删除操作。队列只有两种操作：入队与出队。\n",
    "\n",
    "队列是一种先进先出（ First In First Out， FIFO）的数据结构，而栈是一种后进先出（ Last In\n",
    "First Out， LIFO）的数据结构。"
   ]
  },
  {
   "cell_type": "markdown",
   "metadata": {},
   "source": [
    "## 小结\n",
    "1. 广度优先搜索指出是否存在从A到B的路径\n",
    "2. 广度优先搜索 将找出A到B的最短路径\n",
    "3. 面临类似于寻找最短路径的问题时， 可以尝试使用图来建立模型， 在使用广度优先搜索来解决问题\n",
    "4. 有向图中的边为箭头， 箭头的方向指定了关系的方向， 例如， rama→adit表示rama欠adit钱\n",
    "5. 无向图中的边不带箭头， 其中的关系时双向的， 例如， ross - rachel表示“ross与rachel约会，而rachel也与ross约会”。\n",
    "6. 队列是先进先出（FIFO）的\n",
    "7. 栈是后进先出（LIFO）的\n",
    "8. 需要按照加入顺序检查搜索列表中的人， 否则找到的就不是最短路径， 因此搜索列表必须是队列\n",
    "9. 对于检查过的人， 务必不要再去检查， 否则可能导致无线循环。。"
   ]
  }
 ],
 "metadata": {
  "kernelspec": {
   "display_name": "Python 3",
   "language": "python",
   "name": "python3"
  },
  "language_info": {
   "codemirror_mode": {
    "name": "ipython",
    "version": 3
   },
   "file_extension": ".py",
   "mimetype": "text/x-python",
   "name": "python",
   "nbconvert_exporter": "python",
   "pygments_lexer": "ipython3",
   "version": "3.8.3"
  }
 },
 "nbformat": 4,
 "nbformat_minor": 2
}
