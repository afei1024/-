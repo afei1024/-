{
 "cells": [
  {
   "cell_type": "markdown",
   "metadata": {},
   "source": [
    "### 第二章"
   ]
  },
  {
   "cell_type": "markdown",
   "metadata": {},
   "source": [
    "### 目标\n",
    "- 学会两种最基本的数据结构： 数组和链表\n",
    "- 学会第一种排序算法 -- 快速排序"
   ]
  },
  {
   "cell_type": "markdown",
   "metadata": {},
   "source": [
    "#### 第一章回顾\n",
    "1. 二分查找法\n",
    "> - a. 二分查找的前提要求数据是有序的\n",
    "> - b. 二分查找比简单查找的速度快很多\n",
    "> - c. 二分查找的时间复杂度是 O（log n）， 简单查找的时间复杂度是O（）\n",
    "2. 大O表示法\n",
    "> - a. 大O用于表示算法的时间运行时间"
   ]
  },
  {
   "cell_type": "markdown",
   "metadata": {},
   "source": [
    "## 选择排序"
   ]
  },
  {
   "cell_type": "markdown",
   "metadata": {},
   "source": [
    "选择排序（selection sort） 是一种简单直观的排序算法。它的工作原理如下：\n",
    "1. 在未排序的序列中找到最小或最大元素\n",
    "2. 将最小（大）放到排序序列的起始位置\n",
    "3. 在剩余未排序的序列中继续寻找最小或最大元素\n",
    "4. 将元素放置在已排序序列的末尾\n",
    "5. 继续循环3， 4两步， 直到元素均排序完毕"
   ]
  },
  {
   "cell_type": "markdown",
   "metadata": {},
   "source": [
    "#### 概况\n",
    "1. 类别：排序算法\n",
    "2. 数据结构类型： 数组\n",
    "#### 复杂度\n",
    "1. 平均时间复杂度\tО(n²)\n",
    "2. 最坏时间复杂度\tО(n²)\n",
    "3. 最优时间复杂度\tО(n²)\n",
    "4. 空间复杂度\t总共О(n)，需要辅助空间O(1)\n",
    "5. 最佳解\t偶尔出现  （传入的数组就是有序的数组）\n"
   ]
  },
  {
   "cell_type": "code",
   "execution_count": 3,
   "metadata": {},
   "outputs": [],
   "source": [
    "def find_smallest(arr):\n",
    "    smallest = arr[0] # 存储最小的值\n",
    "    smallest_index = 0  # 存储最小元素的索引\n",
    "    for i in range(1, len(arr)):\n",
    "        if arr[i] < smallest:\n",
    "            smallest = arr[i]\n",
    "            smallest_index = i\n",
    "    return smallest_index\n",
    "def selection_sort(arr):\n",
    "    new_arr = []\n",
    "    for i in range(len(arr)):\n",
    "        smallest = find_smallest(arr)\n",
    "        new_arr.append(arr.pop(smallest))\n",
    "    return new_arr"
   ]
  },
  {
   "cell_type": "code",
   "execution_count": 4,
   "metadata": {},
   "outputs": [
    {
     "data": {
      "text/plain": [
       "[2, 3, 5, 6, 10]"
      ]
     },
     "execution_count": 4,
     "metadata": {},
     "output_type": "execute_result"
    }
   ],
   "source": [
    "selection_sort([5, 3, 6, 2, 10])"
   ]
  },
  {
   "cell_type": "markdown",
   "metadata": {},
   "source": [
    "###  小结\n",
    "- 计算机内存犹如一堆抽屉\n",
    "- 需要存储多个元素时， 可以使用数组或者链表\n",
    "- 数组的元素是存放在一起的\n",
    "- 链表的元素是分开的， 其中每个元素都存储了下一个元素的地址\n",
    "- 数组的读取速度快\n",
    "- 链表的插入与删除速度快\n",
    "- 在同一个数组中，所有元素的类型必须相同（python 列表的数据不需要相同的数据类型）"
   ]
  }
 ],
 "metadata": {
  "kernelspec": {
   "display_name": "Python 3",
   "language": "python",
   "name": "python3"
  },
  "language_info": {
   "codemirror_mode": {
    "name": "ipython",
    "version": 3
   },
   "file_extension": ".py",
   "mimetype": "text/x-python",
   "name": "python",
   "nbconvert_exporter": "python",
   "pygments_lexer": "ipython3",
   "version": "3.6.8"
  }
 },
 "nbformat": 4,
 "nbformat_minor": 4
}
