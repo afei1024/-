{
 "cells": [
  {
   "cell_type": "markdown",
   "metadata": {},
   "source": [
    "# 第三章"
   ]
  },
  {
   "cell_type": "markdown",
   "metadata": {},
   "source": [
    "### 目标\n",
    "1. 学习递归\n",
    "2. 学习如何将问题分成基线条件与递归条件"
   ]
  },
  {
   "cell_type": "markdown",
   "metadata": {},
   "source": [
    "#### 递归\n",
    "一种优雅的问题解决方法\n",
    "\n",
    "编写代码的时候， 如果递归调用的函数较多，会占用大量内存， 可以重新编码或者使用循环 还可以使用尾递归， 这是递归的一个高级主题， 不是所有 的语言都支持\n",
    "#### 伪代码\n",
    "伪代码是对手头问题的简单描述， 看着像代码， 但其实更接近自然语言"
   ]
  },
  {
   "cell_type": "markdown",
   "metadata": {},
   "source": [
    "在编写递归函数时， 必须告诉它何时停止递归， 正因为如此， 每个递归函数都有两部分：基线条件（base case）和递归条件（recursive case）。递归条件指的时函数调用自己， 而基线条件则指的时函数不再调用自己， 从而避免无线循环。 通俗来说递归条件就是程序让函数自己调用自己的条件；而基线条件就是让程序知道什么时候让函数停止自己调用自己，以免成为死循环"
   ]
  },
  {
   "cell_type": "markdown",
   "metadata": {},
   "source": [
    "#### 栈\n",
    "是计算机科学中的一种抽象的数据类型， 只允许在有序的线性数据集合的一端（称为堆栈顶端：top）进行加入数据（push）和移除数据（pop）的运算。因而按照先进先出（LIFO， last in first out）的原理运作\n",
    "\n",
    "堆栈常与另一种有序的线性数据集合队列相提并论\n",
    "\n",
    "堆栈常用一堆数组或链表来实现\n",
    "\n",
    "栈虽然使用方便， 但是在存储详尽信息的时候会占用大量内存。"
   ]
  },
  {
   "cell_type": "markdown",
   "metadata": {},
   "source": [
    "### 小结"
   ]
  },
  {
   "cell_type": "markdown",
   "metadata": {},
   "source": [
    "1. 递归指的时调用自己的函数\n",
    "2. 每个递归函数都有两个条件：基线条件与递归条件\n",
    "3. 栈有两种操作：压入与弹出\n",
    "4. 所有函数调用都进入调用栈\n",
    "5. 调用栈可能很长， 这将占用大量内存"
   ]
  },
  {
   "cell_type": "code",
   "execution_count": null,
   "metadata": {},
   "outputs": [],
   "source": []
  }
 ],
 "metadata": {
  "kernelspec": {
   "display_name": "Python 3",
   "language": "python",
   "name": "python3"
  },
  "language_info": {
   "codemirror_mode": {
    "name": "ipython",
    "version": 3
   },
   "file_extension": ".py",
   "mimetype": "text/x-python",
   "name": "python",
   "nbconvert_exporter": "python",
   "pygments_lexer": "ipython3",
   "version": "3.6.8"
  }
 },
 "nbformat": 4,
 "nbformat_minor": 2
}
