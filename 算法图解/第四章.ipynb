{
 "cells": [
  {
   "cell_type": "markdown",
   "metadata": {},
   "source": [
    "# 第四章"
   ]
  },
  {
   "cell_type": "markdown",
   "metadata": {},
   "source": [
    "### 目标\n",
    "1. 分治法\n",
    "2. 快速排序算法"
   ]
  },
  {
   "cell_type": "markdown",
   "metadata": {},
   "source": [
    "### 分治法（D&C）\n",
    "在计算机科学中，分治法是建基于多项分支递归的一种很重要的算法范式\n",
    "\n",
    "这个技巧是很多高效算法的基础，如排序算法（归并排序、快速排序）、傅立叶变换（快速傅立叶变换）。\n",
    "\n",
    "#### 实现\n",
    "##### 循环递归\n",
    "- 在每一层递归上都有三个步骤：\n",
    "\n",
    ">1. 分解：将原问题分解为若干个规模较小，相对独立，与原问题形式相同的子问题。\n",
    ">2. 解决：若子问题规模较小且易于解决时，则直接解。否则，递归地解决各子问题。\n",
    ">3. 合并：将各子问题的解合并为原问题的解。\n"
   ]
  },
  {
   "cell_type": "markdown",
   "metadata": {},
   "source": [
    "### 快速排序\n",
    "快速排序算法 （Quicksort）又称分区交换排序（partition-exchange sort），简称快排\n",
    "\n"
   ]
  },
  {
   "cell_type": "code",
   "execution_count": 1,
   "metadata": {},
   "outputs": [],
   "source": [
    "def quicksort(array):\n",
    "    if len(array) < 2:\n",
    "        return array  #给 基线条件 为空或者只包含一个元素的数组时 有序 的\n",
    "    else:\n",
    "        pivot = array[0]\n",
    "        less = [i for i in array[1:] if i <= pivot]\n",
    "        greater = [i for i in array[1:] if i > pivot]\n",
    "        return quicksort(less) + [pivot] + quicksort(greater)\n",
    "    \n",
    "    "
   ]
  },
  {
   "cell_type": "code",
   "execution_count": 2,
   "metadata": {},
   "outputs": [
    {
     "data": {
      "text/plain": [
       "[2, 3, 5, 10]"
      ]
     },
     "execution_count": 2,
     "metadata": {},
     "output_type": "execute_result"
    }
   ],
   "source": [
    "quicksort([10, 5, 2, 3])"
   ]
  },
  {
   "cell_type": "markdown",
   "metadata": {},
   "source": [
    "### 快速排序的平均情况和最糟糕情况\n",
    "在使用快速排序的时候会遇到平均情况下的时间复杂度O(n log n) 与最糟时间复杂度 O(n2）\n",
    "\n",
    "在最优情况下，快速排序每次都划分得很均匀， 如果排序n个关键字，其递归树的深度就为.log2n， 即仅需递归log2n次，需要时间为T（n）的话，第一次快速排序应该是需要对整个数组扫描一遍，做n次比较。然后，获得的枢轴将数组一分为二，那么各自还需要T（n/2）的时间（注意是最好情况，所以平分两半）。 所以在最优的情况下，快速排序算法的时间复杂度为O(nlogn)\n",
    "\n",
    "在最坏的情况下，待排序的序列为正序或者逆序（是一个有序的正常情况下是不需要进行排序的队列），每次划分只得到一个比上一次划分少一个记录的子序列，注意另一个为空。如果递归树画出来，它就是一棵斜树。此时需要执行n‐1次递归调用，且第i次划分需要经过n‐i次关键字的比较才能找到第i个记录，也就是枢轴的位置，最终其时间复杂度为O(n2)。\n",
    "\n",
    "\n",
    "最佳情况也是平均情况。只要你每次都随机地选择一个数组元\n",
    "素作为基准值，快速排序的平均运行时间就将为O(n log n)。快速排序是最快的排序算法之一，也\n",
    "是D&C典范。"
   ]
  },
  {
   "cell_type": "markdown",
   "metadata": {},
   "source": [
    "### 小结\n",
    "1. D&C将问题逐步分解。使用D&C处理列表时，基线条件很可能是空数组或只包含一个元素的数组。\n",
    "2. 实现快速排序时，请随机地选择用作基准值的元素。快速排序的平均运行时间为O(n log n)。 当排序队列为有序的时候， 快速排序的时间复杂度为O(n2)即为糟糕情况\n",
    "3. 大O表示法中的常量有时候事关重大，这就是快速排序比合并排序快的原因所在。\n",
    "4. 比较简单查找和二分查找时，常量几乎无关紧要，因为列表很长时， 二分查找 O(log n)的速度比 简单查找O(n)快得多。"
   ]
  },
  {
   "cell_type": "code",
   "execution_count": null,
   "metadata": {},
   "outputs": [],
   "source": []
  }
 ],
 "metadata": {
  "kernelspec": {
   "display_name": "Python 3",
   "language": "python",
   "name": "python3"
  },
  "language_info": {
   "codemirror_mode": {
    "name": "ipython",
    "version": 3
   },
   "file_extension": ".py",
   "mimetype": "text/x-python",
   "name": "python",
   "nbconvert_exporter": "python",
   "pygments_lexer": "ipython3",
   "version": "3.8.3"
  }
 },
 "nbformat": 4,
 "nbformat_minor": 2
}
