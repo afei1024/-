{
 "cells": [
  {
   "cell_type": "markdown",
   "metadata": {},
   "source": [
    "### 第二章"
   ]
  },
  {
   "cell_type": "markdown",
   "metadata": {},
   "source": [
    "### 目标\n",
    "- 学会两种最基本的数据结构： 数组和链表\n",
    "- 学会第一种排序算法 -- 快速排序"
   ]
  },
  {
   "cell_type": "markdown",
   "metadata": {},
   "source": [
    "#### 第一章回顾\n",
    "1. 二分查找法\n",
    "> - a. 二分查找的前提要求数据是有序的\n",
    "> - b. 二分查找比简单查找的速度快很多\n",
    "> - c. 二分查找的时间复杂度是 O（log n）， 简单查找的时间复杂度是O（）\n",
    "2. 大O表示法\n",
    "> - a. 大O用于表示算法的时间运行时间"
   ]
  },
  {
   "cell_type": "code",
   "execution_count": null,
   "metadata": {},
   "outputs": [],
   "source": []
  }
 ],
 "metadata": {
  "kernelspec": {
   "display_name": "Python 3",
   "language": "python",
   "name": "python3"
  },
  "language_info": {
   "codemirror_mode": {
    "name": "ipython",
    "version": 3
   },
   "file_extension": ".py",
   "mimetype": "text/x-python",
   "name": "python",
   "nbconvert_exporter": "python",
   "pygments_lexer": "ipython3",
   "version": "3.6.3"
  }
 },
 "nbformat": 4,
 "nbformat_minor": 4
}
