{
 "cells": [
  {
   "cell_type": "markdown",
   "metadata": {},
   "source": [
    "## 学习目标\n",
    "- 编写二分查找\n",
    "- 懂得大O表示法\n",
    "- 了解递归"
   ]
  },
  {
   "cell_type": "markdown",
   "metadata": {},
   "source": [
    "## 什么是算法\n",
    "算法 是一组完成任务的指令。 任何代码片段都可以视为算法。"
   ]
  },
  {
   "cell_type": "markdown",
   "metadata": {},
   "source": [
    "## 二分查找法"
   ]
  },
  {
   "cell_type": "code",
   "execution_count": 1,
   "metadata": {},
   "outputs": [],
   "source": [
    "def binary_search(li,item):\n",
    "    low = 0\n",
    "    high = len(li) - 1\n",
    "    while low <= high:\n",
    "        mid = (low + high)\n",
    "        guess = li[mid]\n",
    "        if guess == item:\n",
    "            return mid\n",
    "        elif guess > item:\n",
    "            high = mid -1\n",
    "        else:\n",
    "            low = mid +1\n",
    "    return None\n",
    "    "
   ]
  },
  {
   "cell_type": "markdown",
   "metadata": {},
   "source": [
    "## 大O表示法"
   ]
  },
  {
   "cell_type": "markdown",
   "metadata": {},
   "source": [
    "大O表示法是一种特殊的表示法， 指出了算法的速度有你多块。"
   ]
  },
  {
   "cell_type": "markdown",
   "metadata": {},
   "source": [
    "### 一些常见的大O运行时间\n",
    "##### 以下又快到慢的顺序列出常见的五种大O运行时间\n",
    "- O(log N):对数时间， 这样的算法包括二分查找\n",
    "- O(N):线性时间， 这样的算法包括简单查找\n",
    "- O(N * log N): 这种算法包括快速排序，一种速度比较快的排序算法\n",
    "- O(N**2):这种算法包括选择排序吗一种速度比较慢的排序算法\n",
    "- O(N!):这种算法包括接下来介绍的旅行商问题， 一种非常慢的算法"
   ]
  },
  {
   "cell_type": "markdown",
   "metadata": {},
   "source": [
    ">> 1. 算法的速度之的并非时间， 是操作数的增速\n",
    ">> 2. 在谈论算法的速度时， 我们说的是随着输入的增加， 其运行时间将以什么杨的速度增加\n",
    ">> 3. 算法的运行时间用大 O 表示法表示\n",
    ">> 4. O(log n) 比O(n)快， 当需要搜索的元素越多的时候， 前者比后者快的越多"
   ]
  },
  {
   "cell_type": "markdown",
   "metadata": {},
   "source": [
    "### 小结"
   ]
  },
  {
   "cell_type": "markdown",
   "metadata": {},
   "source": [
    "1. 二分查找的速度比简单查找的速度快\n",
    "2. O(log n) 比O(n)快， 当需要搜索的元素越多的时候， 前者比后者快的越多\n",
    "3. 算法运行时间并不是以秒为单位\n",
    "4. 算法运行时间是从其增速的角度进行度量的\n",
    "5. 算法运行时间用大O进行表示"
   ]
  },
  {
   "cell_type": "code",
   "execution_count": null,
   "metadata": {},
   "outputs": [],
   "source": []
  }
 ],
 "metadata": {
  "kernelspec": {
   "display_name": "Python 3",
   "language": "python",
   "name": "python3"
  },
  "language_info": {
   "codemirror_mode": {
    "name": "ipython",
    "version": 3
   },
   "file_extension": ".py",
   "mimetype": "text/x-python",
   "name": "python",
   "nbconvert_exporter": "python",
   "pygments_lexer": "ipython3",
   "version": "3.6.8"
  }
 },
 "nbformat": 4,
 "nbformat_minor": 2
}
